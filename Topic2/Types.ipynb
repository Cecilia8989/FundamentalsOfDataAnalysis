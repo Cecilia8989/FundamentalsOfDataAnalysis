{
 "cells": [
  {
   "cell_type": "markdown",
   "metadata": {},
   "source": [
    "## Types in Mthematics "
   ]
  },
  {
   "cell_type": "markdown",
   "metadata": {},
   "source": [
    "**Complex Number**\n",
    "\n",
    "$\\mathbb{C} = \\{a + bi | a, b \\in \\mathbb {R}, i^2 = -1 \\}$\n"
   ]
  },
  {
   "cell_type": "markdown",
   "metadata": {},
   "source": [
    "**Reals**\n",
    "\n",
    "$ \\mathbb{R} $\n",
    "\n",
    "![Real Number Line](https://upload.wikimedia.org/wikipedia/commons/thumb/d/d7/Real_number_line.svg/689px-Real_number_line.svg.png)"
   ]
  },
  {
   "cell_type": "markdown",
   "metadata": {},
   "source": [
    "**A  Problem with Using the Reals to Count**\n",
    "\n",
    "$x = 0.999\\dots$\n",
    "\n",
    "$\\Rightarrow 10x = 9.99\\dots$\n",
    "\n",
    "$\\Rightarrow 10x - x = 9.99\\dots - 0.99\\dots$\n",
    "\n",
    "$\\Rightarrow 9x - x = 9.00\\dots$\n",
    "\n",
    "$\\Rightarrow x = 1.00\\dots$\n",
    "\n",
    "$\\Rightarrow x = 1$"
   ]
  },
  {
   "cell_type": "markdown",
   "metadata": {},
   "source": [
    "**Rationals**\n",
    "\n",
    "$\\mathbb{Q} = \\{ \\frac{m}{n} | m,n \\in \\mathbb{N}_0, n \\neq 0 \\}$"
   ]
  },
  {
   "cell_type": "markdown",
   "metadata": {},
   "source": [
    "**Integers**\n",
    "\n",
    "$ \\mathbb{Z} = \\{ \\ldots, -3, -2, -1, 0, 1, 2, 3, \\ldots \\}$"
   ]
  },
  {
   "cell_type": "markdown",
   "metadata": {},
   "source": [
    "**Naturals**\n",
    "\n",
    "$\\mathbb{N} = \\{1, 2, 3, \\ldots\\}$\n",
    "\n",
    "$\\mathbb{N}_0 = \\{0, 1, 2, 3, \\ldots\\}$"
   ]
  },
  {
   "cell_type": "markdown",
   "metadata": {},
   "source": [
    "**An Interesting Fact About the Natural Numbers**\n",
    "\n",
    "$\\mathbb{N} = \\{1, 2, 3, \\ldots\\}$\n",
    "\n",
    "$2\\mathbb{N} = \\{2, 4, 6, \\ldots\\}$\n",
    "\n",
    "Consider the *correspondence* between $\\mathbb{N}$ on the top line and $2\\mathbb{N}$ on the bottom line where:\n",
    "\n",
    "$f:\\mathbb{N} \\leftrightarrow 2 \\mathbb{N}: n \\leftrightarrow 2n$.\n",
    "\n",
    "Each thing in $\\mathbb{N}$ correspond to something in $2\\mathbb{N}$ and viceversa.\n",
    "\n",
    "Also, there is no overlap: the correspong in both direction is unique.\n",
    "\n",
    "On the one hand, $2\\mathbb{N} \\subset \\mathbb{N}$.\n",
    "\n",
    "On the other hand, $2\\mathbb{N}$ and $\\mathbb{N}$ must have same size.\n",
    "\n",
    "We count the elements of $2\\mathbb{N}$ using the elements of $\\mathbb{N}$.\n"
   ]
  },
  {
   "cell_type": "code",
   "execution_count": null,
   "metadata": {},
   "outputs": [],
   "source": []
  }
 ],
 "metadata": {
  "kernelspec": {
   "display_name": "base",
   "language": "python",
   "name": "python3"
  },
  "language_info": {
   "codemirror_mode": {
    "name": "ipython",
    "version": 3
   },
   "file_extension": ".py",
   "mimetype": "text/x-python",
   "name": "python",
   "nbconvert_exporter": "python",
   "pygments_lexer": "ipython3",
   "version": "3.11.4"
  }
 },
 "nbformat": 4,
 "nbformat_minor": 2
}
