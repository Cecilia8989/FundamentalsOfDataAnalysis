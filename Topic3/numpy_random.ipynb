{
 "cells": [
  {
   "cell_type": "markdown",
   "metadata": {},
   "source": [
    "# Rnadom Numbers in numpy \n",
    "\n",
    "---"
   ]
  },
  {
   "cell_type": "code",
   "execution_count": 9,
   "metadata": {},
   "outputs": [],
   "source": [
    "# Numerical arrays, random number \n",
    "import numpy as np \n",
    "# Plots.\n",
    "import matplotlib.pyplot as plt "
   ]
  },
  {
   "cell_type": "markdown",
   "metadata": {},
   "source": [
    "### Numpy\n",
    "\n",
    "[https://numpy.org/doc/stable/reference/random/index.html](https://numpy.org/doc/stable/reference/random/index.html)"
   ]
  },
  {
   "cell_type": "markdown",
   "metadata": {},
   "source": [
    "## Python Standard library \n",
    "\n",
    "https://docs.python.org/3/library/random.html"
   ]
  },
  {
   "cell_type": "code",
   "execution_count": 10,
   "metadata": {},
   "outputs": [],
   "source": [
    "# random Number Generator (RNG) for generating random numbers \n",
    "rng = np.random.default_rng()"
   ]
  },
  {
   "cell_type": "code",
   "execution_count": 11,
   "metadata": {},
   "outputs": [
    {
     "data": {
      "text/plain": [
       "0.9570686576668843"
      ]
     },
     "execution_count": 11,
     "metadata": {},
     "output_type": "execute_result"
    }
   ],
   "source": [
    "# Generate Random floats in point numbers in the interval 0.0 (included) to 1.0 (excluded).\n",
    "rng.random()  "
   ]
  },
  {
   "cell_type": "code",
   "execution_count": 12,
   "metadata": {},
   "outputs": [
    {
     "data": {
      "text/plain": [
       "array([-7.69414058e-01, -1.81544154e+00, -1.92456261e-01, -3.28514032e-01,\n",
       "        1.66835565e-01, -1.55121740e+00,  9.84696207e-01,  5.12299081e-01,\n",
       "       -5.49602499e-01,  5.00124169e-01, -1.05451410e+00,  1.64501854e-01,\n",
       "       -1.07087849e+00, -1.66764958e+00,  8.06413555e-01, -7.32995461e-01,\n",
       "        3.74923580e-04,  9.30943608e-02,  1.59840280e-01, -2.85336070e-01,\n",
       "        8.18051887e-01, -1.96501915e-01,  1.43234480e+00,  2.92926091e-01,\n",
       "       -5.58845012e-01,  1.96467216e+00, -6.40345470e-01,  1.07268515e+00,\n",
       "       -5.05506490e-01,  3.12918332e-01, -9.64255530e-01, -9.33906625e-01,\n",
       "       -1.38747774e+00, -1.44350549e+00, -1.99272330e-01,  1.05735157e-01,\n",
       "        1.51013625e-01, -1.17687278e+00, -7.65404870e-01,  3.29985648e-01,\n",
       "        4.87836880e-01, -4.20320627e-01,  6.76630973e-01, -5.77429822e-01,\n",
       "       -1.04331563e+00,  1.12946281e+00, -2.52292546e-01, -6.59708597e-01,\n",
       "       -8.24991841e-01, -2.82447028e-01,  2.21380924e-01,  1.32671557e+00,\n",
       "        5.74678985e-01, -1.08753725e+00,  4.90372825e-01, -1.60296018e-01,\n",
       "        1.94467765e-01,  2.01314307e-01, -3.18615419e-01,  7.25884757e-01,\n",
       "        1.02510660e+00, -6.73641267e-01, -7.09496030e-02, -3.07287550e-01,\n",
       "       -1.37124629e+00, -5.95061903e-01,  1.07348699e+00, -8.43378994e-01,\n",
       "        4.42780558e-01, -1.68629530e+00, -4.42503334e-01, -1.16617488e+00,\n",
       "       -5.88335564e-01,  1.97966833e+00, -6.22603070e-01, -1.09358913e+00,\n",
       "        5.16578832e-02, -6.28044555e-01, -5.38731208e-01,  4.86906397e-01,\n",
       "       -5.03172954e-01, -2.61742617e-01,  7.37008426e-01,  6.69834360e-01,\n",
       "        2.01919015e+00,  1.05917100e-01, -8.12283975e-01,  1.89923076e+00,\n",
       "        1.03857630e+00, -3.36394142e-01,  3.49717190e-01, -2.05621470e-01,\n",
       "       -1.15882363e+00, -1.94900559e+00,  1.72317901e-01,  5.88424712e-01,\n",
       "        1.34920454e+00, -1.40971718e+00, -6.42573850e-01,  1.02551106e+00])"
      ]
     },
     "execution_count": 12,
     "metadata": {},
     "output_type": "execute_result"
    }
   ],
   "source": [
    "# Generate numbers on a standard Normal distribution\n",
    "# The mean is 0.0 and standard deviation is 1.0.\n",
    "# The number generated should be, on average, centerd on 0.0\n",
    "# About 99% of the number generated should be in the interval (-3.0, 3.0). \n",
    "\n",
    "rng.standard_normal(100) "
   ]
  },
  {
   "cell_type": "code",
   "execution_count": 13,
   "metadata": {},
   "outputs": [
    {
     "data": {
      "text/plain": [
       "array([4, 3, 9, 5, 1], dtype=int64)"
      ]
     },
     "execution_count": 13,
     "metadata": {},
     "output_type": "execute_result"
    }
   ],
   "source": [
    "# Generate 15 integers between 10 (included) and 20 (excluded).\n",
    "rng.integers(low=0, high=10, size=5)  "
   ]
  },
  {
   "cell_type": "code",
   "execution_count": null,
   "metadata": {},
   "outputs": [],
   "source": []
  },
  {
   "cell_type": "markdown",
   "metadata": {},
   "source": [
    "---"
   ]
  },
  {
   "cell_type": "code",
   "execution_count": 14,
   "metadata": {},
   "outputs": [],
   "source": [
    "# The random module form the standard library.\n",
    "import random"
   ]
  },
  {
   "cell_type": "code",
   "execution_count": 15,
   "metadata": {},
   "outputs": [
    {
     "name": "stdout",
     "output_type": "stream",
     "text": [
      "\u001b[1;31mSignature:\u001b[0m \u001b[0mrandom\u001b[0m\u001b[1;33m.\u001b[0m\u001b[0mrandint\u001b[0m\u001b[1;33m(\u001b[0m\u001b[0ma\u001b[0m\u001b[1;33m,\u001b[0m \u001b[0mb\u001b[0m\u001b[1;33m)\u001b[0m\u001b[1;33m\u001b[0m\u001b[1;33m\u001b[0m\u001b[0m\n",
      "\u001b[1;31mDocstring:\u001b[0m\n",
      "Return random integer in range [a, b], including both end points.\n",
      "        \n",
      "\u001b[1;31mFile:\u001b[0m      c:\\users\\anton\\anaconda3\\lib\\random.py\n",
      "\u001b[1;31mType:\u001b[0m      method"
     ]
    }
   ],
   "source": [
    "# using automplete, we can ger a flavour of the module\n",
    "#putting a question mark in fron ot a fuction print a little help message \n",
    "\n",
    "?random.randint"
   ]
  },
  {
   "cell_type": "code",
   "execution_count": 16,
   "metadata": {},
   "outputs": [
    {
     "data": {
      "text/plain": [
       "20"
      ]
     },
     "execution_count": 16,
     "metadata": {},
     "output_type": "execute_result"
    }
   ],
   "source": [
    "# based on the above, we can generate a random integer between \n",
    "# 10 and 20, inclusive \n",
    "random.randint(10,20)"
   ]
  },
  {
   "cell_type": "code",
   "execution_count": 17,
   "metadata": {},
   "outputs": [],
   "source": [
    "# Generate a list of 100 random integers between 1 and 10.\n",
    "l = [random.randint(1,10) for i in range(100)]"
   ]
  },
  {
   "cell_type": "code",
   "execution_count": 18,
   "metadata": {},
   "outputs": [
    {
     "data": {
      "text/plain": [
       "[6, 5, 2, 8, 10, 6, 2, 10, 9, 10]"
      ]
     },
     "execution_count": 18,
     "metadata": {},
     "output_type": "execute_result"
    }
   ],
   "source": [
    "l[:10]"
   ]
  },
  {
   "cell_type": "code",
   "execution_count": 19,
   "metadata": {},
   "outputs": [
    {
     "data": {
      "text/plain": [
       "'Toyota'"
      ]
     },
     "execution_count": 19,
     "metadata": {},
     "output_type": "execute_result"
    }
   ],
   "source": [
    "# list of car makes\n",
    "\n",
    "makes = ['Toyota', 'Skoda', 'Fords', 'Renault']\n",
    "random.choice(makes)"
   ]
  },
  {
   "cell_type": "code",
   "execution_count": 20,
   "metadata": {},
   "outputs": [
    {
     "data": {
      "text/plain": [
       "['Skoda',\n",
       " 'Toyota',\n",
       " 'Renault',\n",
       " 'Fords',\n",
       " 'Fords',\n",
       " 'Toyota',\n",
       " 'Fords',\n",
       " 'Toyota',\n",
       " 'Renault',\n",
       " 'Toyota']"
      ]
     },
     "execution_count": 20,
     "metadata": {},
     "output_type": "execute_result"
    }
   ],
   "source": [
    "# select ten random makes with replacement\n",
    "random.choices(makes, k=10)"
   ]
  },
  {
   "cell_type": "code",
   "execution_count": 21,
   "metadata": {},
   "outputs": [],
   "source": [
    "# First eight letters \n",
    "letters = ['a','b','c','d','e','f','g','h']"
   ]
  },
  {
   "cell_type": "code",
   "execution_count": 22,
   "metadata": {},
   "outputs": [],
   "source": [
    "# shuffle them:\n",
    "random.shuffle(letters)"
   ]
  },
  {
   "cell_type": "code",
   "execution_count": 23,
   "metadata": {},
   "outputs": [
    {
     "data": {
      "text/plain": [
       "['e', 'c', 'b', 'h', 'f', 'g', 'd', 'a']"
      ]
     },
     "execution_count": 23,
     "metadata": {},
     "output_type": "execute_result"
    }
   ],
   "source": [
    "#look at letters after shuffle \n",
    "letters"
   ]
  },
  {
   "cell_type": "code",
   "execution_count": 24,
   "metadata": {},
   "outputs": [
    {
     "data": {
      "text/plain": [
       "['d', 'b', 'g']"
      ]
     },
     "execution_count": 24,
     "metadata": {},
     "output_type": "execute_result"
    }
   ],
   "source": [
    "# random selection without replacement \n",
    "random.sample(letters, k=3)"
   ]
  },
  {
   "cell_type": "code",
   "execution_count": 25,
   "metadata": {},
   "outputs": [
    {
     "data": {
      "text/plain": [
       "0.704970998531003"
      ]
     },
     "execution_count": 25,
     "metadata": {},
     "output_type": "execute_result"
    }
   ],
   "source": [
    "# Random real (floating-point) number [0.0, 1.0)\n",
    "random.random()"
   ]
  },
  {
   "cell_type": "code",
   "execution_count": 26,
   "metadata": {},
   "outputs": [
    {
     "data": {
      "text/plain": [
       "35.37600322031952"
      ]
     },
     "execution_count": 26,
     "metadata": {},
     "output_type": "execute_result"
    }
   ],
   "source": [
    "# Pick a random floating point number between [0.0 and 100.00]\n",
    "random.uniform(0.0,100.00)"
   ]
  },
  {
   "cell_type": "markdown",
   "metadata": {},
   "source": [
    "# Plotting Distributions \n",
    "***"
   ]
  },
  {
   "cell_type": "code",
   "execution_count": 27,
   "metadata": {},
   "outputs": [],
   "source": [
    "# The low integer allowed>\n",
    "low =1\n",
    "\n",
    "# the highest integer allowed \n",
    "high = 1000\n",
    "\n",
    "# The number of integers to generate.\n",
    "size = 100000\n"
   ]
  },
  {
   "cell_type": "code",
   "execution_count": 28,
   "metadata": {},
   "outputs": [],
   "source": [
    "# Generated a list of random integers.\n",
    "rand_ints = rng.integers(low=low, high=high +1, size=size)  \n"
   ]
  },
  {
   "cell_type": "code",
   "execution_count": 29,
   "metadata": {},
   "outputs": [
    {
     "data": {
      "text/plain": [
       "array([501, 458, 728, ..., 900, 768, 144], dtype=int64)"
      ]
     },
     "execution_count": 29,
     "metadata": {},
     "output_type": "execute_result"
    }
   ],
   "source": [
    "#show\n",
    "rand_ints"
   ]
  },
  {
   "cell_type": "code",
   "execution_count": 30,
   "metadata": {},
   "outputs": [],
   "source": [
    "# The range of x values \n",
    "\n",
    "x = np.arange(low, high +1, dtype=int )\n"
   ]
  },
  {
   "cell_type": "code",
   "execution_count": 31,
   "metadata": {},
   "outputs": [
    {
     "data": {
      "text/plain": [
       "(array([   1,    2,    3,    4,    5,    6,    7,    8,    9,   10,   11,\n",
       "          12,   13,   14,   15,   16,   17,   18,   19,   20,   21,   22,\n",
       "          23,   24,   25,   26,   27,   28,   29,   30,   31,   32,   33,\n",
       "          34,   35,   36,   37,   38,   39,   40,   41,   42,   43,   44,\n",
       "          45,   46,   47,   48,   49,   50,   51,   52,   53,   54,   55,\n",
       "          56,   57,   58,   59,   60,   61,   62,   63,   64,   65,   66,\n",
       "          67,   68,   69,   70,   71,   72,   73,   74,   75,   76,   77,\n",
       "          78,   79,   80,   81,   82,   83,   84,   85,   86,   87,   88,\n",
       "          89,   90,   91,   92,   93,   94,   95,   96,   97,   98,   99,\n",
       "         100,  101,  102,  103,  104,  105,  106,  107,  108,  109,  110,\n",
       "         111,  112,  113,  114,  115,  116,  117,  118,  119,  120,  121,\n",
       "         122,  123,  124,  125,  126,  127,  128,  129,  130,  131,  132,\n",
       "         133,  134,  135,  136,  137,  138,  139,  140,  141,  142,  143,\n",
       "         144,  145,  146,  147,  148,  149,  150,  151,  152,  153,  154,\n",
       "         155,  156,  157,  158,  159,  160,  161,  162,  163,  164,  165,\n",
       "         166,  167,  168,  169,  170,  171,  172,  173,  174,  175,  176,\n",
       "         177,  178,  179,  180,  181,  182,  183,  184,  185,  186,  187,\n",
       "         188,  189,  190,  191,  192,  193,  194,  195,  196,  197,  198,\n",
       "         199,  200,  201,  202,  203,  204,  205,  206,  207,  208,  209,\n",
       "         210,  211,  212,  213,  214,  215,  216,  217,  218,  219,  220,\n",
       "         221,  222,  223,  224,  225,  226,  227,  228,  229,  230,  231,\n",
       "         232,  233,  234,  235,  236,  237,  238,  239,  240,  241,  242,\n",
       "         243,  244,  245,  246,  247,  248,  249,  250,  251,  252,  253,\n",
       "         254,  255,  256,  257,  258,  259,  260,  261,  262,  263,  264,\n",
       "         265,  266,  267,  268,  269,  270,  271,  272,  273,  274,  275,\n",
       "         276,  277,  278,  279,  280,  281,  282,  283,  284,  285,  286,\n",
       "         287,  288,  289,  290,  291,  292,  293,  294,  295,  296,  297,\n",
       "         298,  299,  300,  301,  302,  303,  304,  305,  306,  307,  308,\n",
       "         309,  310,  311,  312,  313,  314,  315,  316,  317,  318,  319,\n",
       "         320,  321,  322,  323,  324,  325,  326,  327,  328,  329,  330,\n",
       "         331,  332,  333,  334,  335,  336,  337,  338,  339,  340,  341,\n",
       "         342,  343,  344,  345,  346,  347,  348,  349,  350,  351,  352,\n",
       "         353,  354,  355,  356,  357,  358,  359,  360,  361,  362,  363,\n",
       "         364,  365,  366,  367,  368,  369,  370,  371,  372,  373,  374,\n",
       "         375,  376,  377,  378,  379,  380,  381,  382,  383,  384,  385,\n",
       "         386,  387,  388,  389,  390,  391,  392,  393,  394,  395,  396,\n",
       "         397,  398,  399,  400,  401,  402,  403,  404,  405,  406,  407,\n",
       "         408,  409,  410,  411,  412,  413,  414,  415,  416,  417,  418,\n",
       "         419,  420,  421,  422,  423,  424,  425,  426,  427,  428,  429,\n",
       "         430,  431,  432,  433,  434,  435,  436,  437,  438,  439,  440,\n",
       "         441,  442,  443,  444,  445,  446,  447,  448,  449,  450,  451,\n",
       "         452,  453,  454,  455,  456,  457,  458,  459,  460,  461,  462,\n",
       "         463,  464,  465,  466,  467,  468,  469,  470,  471,  472,  473,\n",
       "         474,  475,  476,  477,  478,  479,  480,  481,  482,  483,  484,\n",
       "         485,  486,  487,  488,  489,  490,  491,  492,  493,  494,  495,\n",
       "         496,  497,  498,  499,  500,  501,  502,  503,  504,  505,  506,\n",
       "         507,  508,  509,  510,  511,  512,  513,  514,  515,  516,  517,\n",
       "         518,  519,  520,  521,  522,  523,  524,  525,  526,  527,  528,\n",
       "         529,  530,  531,  532,  533,  534,  535,  536,  537,  538,  539,\n",
       "         540,  541,  542,  543,  544,  545,  546,  547,  548,  549,  550,\n",
       "         551,  552,  553,  554,  555,  556,  557,  558,  559,  560,  561,\n",
       "         562,  563,  564,  565,  566,  567,  568,  569,  570,  571,  572,\n",
       "         573,  574,  575,  576,  577,  578,  579,  580,  581,  582,  583,\n",
       "         584,  585,  586,  587,  588,  589,  590,  591,  592,  593,  594,\n",
       "         595,  596,  597,  598,  599,  600,  601,  602,  603,  604,  605,\n",
       "         606,  607,  608,  609,  610,  611,  612,  613,  614,  615,  616,\n",
       "         617,  618,  619,  620,  621,  622,  623,  624,  625,  626,  627,\n",
       "         628,  629,  630,  631,  632,  633,  634,  635,  636,  637,  638,\n",
       "         639,  640,  641,  642,  643,  644,  645,  646,  647,  648,  649,\n",
       "         650,  651,  652,  653,  654,  655,  656,  657,  658,  659,  660,\n",
       "         661,  662,  663,  664,  665,  666,  667,  668,  669,  670,  671,\n",
       "         672,  673,  674,  675,  676,  677,  678,  679,  680,  681,  682,\n",
       "         683,  684,  685,  686,  687,  688,  689,  690,  691,  692,  693,\n",
       "         694,  695,  696,  697,  698,  699,  700,  701,  702,  703,  704,\n",
       "         705,  706,  707,  708,  709,  710,  711,  712,  713,  714,  715,\n",
       "         716,  717,  718,  719,  720,  721,  722,  723,  724,  725,  726,\n",
       "         727,  728,  729,  730,  731,  732,  733,  734,  735,  736,  737,\n",
       "         738,  739,  740,  741,  742,  743,  744,  745,  746,  747,  748,\n",
       "         749,  750,  751,  752,  753,  754,  755,  756,  757,  758,  759,\n",
       "         760,  761,  762,  763,  764,  765,  766,  767,  768,  769,  770,\n",
       "         771,  772,  773,  774,  775,  776,  777,  778,  779,  780,  781,\n",
       "         782,  783,  784,  785,  786,  787,  788,  789,  790,  791,  792,\n",
       "         793,  794,  795,  796,  797,  798,  799,  800,  801,  802,  803,\n",
       "         804,  805,  806,  807,  808,  809,  810,  811,  812,  813,  814,\n",
       "         815,  816,  817,  818,  819,  820,  821,  822,  823,  824,  825,\n",
       "         826,  827,  828,  829,  830,  831,  832,  833,  834,  835,  836,\n",
       "         837,  838,  839,  840,  841,  842,  843,  844,  845,  846,  847,\n",
       "         848,  849,  850,  851,  852,  853,  854,  855,  856,  857,  858,\n",
       "         859,  860,  861,  862,  863,  864,  865,  866,  867,  868,  869,\n",
       "         870,  871,  872,  873,  874,  875,  876,  877,  878,  879,  880,\n",
       "         881,  882,  883,  884,  885,  886,  887,  888,  889,  890,  891,\n",
       "         892,  893,  894,  895,  896,  897,  898,  899,  900,  901,  902,\n",
       "         903,  904,  905,  906,  907,  908,  909,  910,  911,  912,  913,\n",
       "         914,  915,  916,  917,  918,  919,  920,  921,  922,  923,  924,\n",
       "         925,  926,  927,  928,  929,  930,  931,  932,  933,  934,  935,\n",
       "         936,  937,  938,  939,  940,  941,  942,  943,  944,  945,  946,\n",
       "         947,  948,  949,  950,  951,  952,  953,  954,  955,  956,  957,\n",
       "         958,  959,  960,  961,  962,  963,  964,  965,  966,  967,  968,\n",
       "         969,  970,  971,  972,  973,  974,  975,  976,  977,  978,  979,\n",
       "         980,  981,  982,  983,  984,  985,  986,  987,  988,  989,  990,\n",
       "         991,  992,  993,  994,  995,  996,  997,  998,  999, 1000],\n",
       "       dtype=int64),\n",
       " array([118, 102, 102,  99,  86, 105,  97,  97, 113,  91,  88,  87,  96,\n",
       "         94,  99,  92, 108, 111, 104,  96,  85,  84,  79,  98, 106,  91,\n",
       "        114, 104,  97,  99,  94, 117, 111,  95,  87,  94,  96, 115,  89,\n",
       "        104,  99, 106, 109, 119, 100,  94,  91, 107,  97,  98,  79, 102,\n",
       "         91, 116,  98,  99, 107,  90, 114, 100,  81, 107,  88,  92, 120,\n",
       "         94, 101,  98,  90,  95, 109,  99, 105,  89, 106, 110, 111, 119,\n",
       "        107,  99,  82, 102, 102,  87, 104,  99, 101,  89,  87, 105, 106,\n",
       "        104, 116, 100,  96, 105,  86,  81, 116, 105,  96,  92,  97,  99,\n",
       "        102, 102,  89, 110, 107,  87, 108,  99, 105,  97,  99, 106, 106,\n",
       "        105, 103,  83, 118, 115,  91,  95, 117,  94,  97, 104, 105, 115,\n",
       "         92,  94, 110, 108,  97, 109, 105, 112,  90,  87, 117, 100,  93,\n",
       "         89,  89, 116, 103,  97,  87, 116, 107, 106, 112, 111, 102, 109,\n",
       "        107,  92, 106,  83, 122, 103,  97, 104,  99,  99, 100, 111, 106,\n",
       "         99,  98,  98,  92, 104,  98,  84,  73,  90, 119,  91,  90,  97,\n",
       "        107,  99, 104, 118,  95, 102, 102,  85,  87,  95,  99, 119, 105,\n",
       "         94, 105,  90, 105, 106, 106,  94,  83, 123,  90,  91,  96,  66,\n",
       "         97,  83,  81, 118,  95, 107,  91, 101,  94, 103, 108, 114,  91,\n",
       "        104, 108, 105, 100, 100,  95, 101,  99, 116, 117, 111,  87, 104,\n",
       "         99,  96, 108, 109, 106, 122, 105,  88,  99, 103,  83, 105,  83,\n",
       "        104, 100,  94, 102,  96,  87,  96, 113,  82, 113,  93,  93,  99,\n",
       "        127,  86, 117,  97,  94, 110, 110,  95,  87, 115,  91, 108, 105,\n",
       "        103,  95,  95,  93, 110, 101,  94,  87,  89, 115, 102,  89,  99,\n",
       "         96,  96,  78, 100, 114, 117, 105,  99,  89, 108, 107, 103, 119,\n",
       "         90, 106,  99, 104, 118, 103,  98,  93, 105, 115,  89,  91, 103,\n",
       "         91,  98,  98,  89, 116,  97, 102, 106, 112, 127, 109, 102, 109,\n",
       "        116, 106,  89,  93, 112,  93, 115, 127, 104,  96, 108, 119,  97,\n",
       "         95, 102,  86, 109,  94, 101, 104, 107,  87, 110, 104,  94,  98,\n",
       "        112,  97, 108, 103, 103,  86, 117, 120, 101, 101, 109, 109, 102,\n",
       "         99,  85, 101,  89, 113,  94, 109,  98,  86,  86,  83, 128, 100,\n",
       "        105, 106, 107, 106,  85,  95,  86,  98, 111, 102, 108,  96, 109,\n",
       "        103, 103, 110,  92,  98, 105,  96, 104,  87, 113,  91, 104,  92,\n",
       "        109, 118,  94,  97,  97,  83, 113, 105, 104,  98,  85, 109, 109,\n",
       "        106,  99, 106, 104, 105,  86,  99, 106, 114,  83, 101, 101,  98,\n",
       "         88, 104,  92,  93,  93,  94, 102, 100,  91,  94, 122, 100,  89,\n",
       "         93,  90, 117, 114,  94, 112,  86, 115,  92, 112, 112,  88,  92,\n",
       "         90, 109, 114,  95, 114,  99,  95, 110, 102, 100,  95,  98, 105,\n",
       "        108, 111, 104, 106, 101,  90,  99, 108, 118,  95, 104, 111,  97,\n",
       "         92,  90,  96, 109,  91,  98, 116, 106,  86,  95,  97,  95, 110,\n",
       "         92,  86, 105,  87,  96,  93,  90,  99,  89,  99,  91,  92, 103,\n",
       "         95, 117, 111,  97,  98, 112,  81,  96,  86,  98, 102,  99, 108,\n",
       "        125, 108,  93, 120,  88, 100,  82, 113,  81, 102,  93, 105,  95,\n",
       "         96,  99,  89, 103, 103, 100, 104, 117, 102, 104,  94, 120, 127,\n",
       "        106, 100, 109,  90, 103, 102,  86, 112, 123, 120, 101, 109,  83,\n",
       "        114,  88, 118,  97, 104,  81, 109, 110,  89,  94,  96,  93,  99,\n",
       "        113, 116,  98,  92,  95, 107, 107,  95,  90, 112,  95,  91,  99,\n",
       "        100, 112, 118,  99,  93, 108,  95, 107, 106,  97,  99,  97, 110,\n",
       "         88,  98, 105, 121, 103,  89, 101,  98,  89, 100,  98, 102,  94,\n",
       "        109,  98,  84,  89,  76,  91, 107, 104,  96,  92,  97,  87, 104,\n",
       "         99,  95,  93,  83, 110, 107, 100,  81, 101, 102,  95,  89, 104,\n",
       "        107,  87, 101, 100,  98,  97,  83,  88,  81, 116, 100,  92, 106,\n",
       "         89, 106, 105, 102, 109, 116,  89,  87, 106, 104,  85, 105, 100,\n",
       "         97, 113, 110, 104, 111,  99,  99, 104, 109, 100,  84,  94, 100,\n",
       "        117, 105,  89, 102, 100,  93, 101, 104, 105, 105,  93,  98,  79,\n",
       "         96,  93,  96, 103, 114,  97, 100, 106,  92, 101,  97,  87,  95,\n",
       "         90, 113, 125,  89,  96, 119, 103, 121,  96,  90,  90, 104,  93,\n",
       "         94,  97,  85,  88,  97, 103,  81, 110, 102,  98, 102,  96, 110,\n",
       "         79, 103, 105,  99,  92,  97, 101,  97,  85, 116,  99, 107,  98,\n",
       "         87,  92,  99, 106, 105,  89, 103,  95, 108,  86,  93,  98, 122,\n",
       "         90, 112, 103,  86, 113,  91, 103, 100,  96,  93,  88, 107, 102,\n",
       "         90,  83,  93, 101,  94, 111,  99, 106, 113, 100, 103, 107, 108,\n",
       "        117, 112, 105,  90,  99, 116,  85,  97, 111,  99,  94,  92,  90,\n",
       "        100,  91,  82, 104, 103,  96,  98, 116, 100,  99, 107,  93, 110,\n",
       "        130,  85,  77,  77,  86,  91,  90, 117, 116,  89,  99, 106, 115,\n",
       "         83, 105,  95, 104, 110,  80, 108,  90,  96, 101, 116,  95,  93,\n",
       "         89, 101,  93,  96, 109,  98,  77, 113, 106, 108,  87, 105, 101,\n",
       "         94,  98,  85, 100,  79, 111, 108,  92,  81, 106,  85,  99, 109,\n",
       "         98,  87, 120, 119,  97, 103,  81,  93,  98, 106, 104, 105, 103,\n",
       "         87,  97, 106, 104,  99, 114,  87,  92,  99,  80, 113,  68,  95,\n",
       "         89,  87, 118, 101, 124, 105,  99,  96,  98, 110,  95,  92,  98,\n",
       "         95, 102, 125, 124, 106,  99, 102,  96,  99, 108,  98,  98, 108,\n",
       "        118,  99, 103, 120,  98, 101, 105,  88,  93,  99,  97,  91,  90,\n",
       "        102,  80, 119,  87, 107,  96,  99,  95, 107, 109, 106,  98,  90,\n",
       "         79, 104, 103, 119,  99, 114,  95, 100, 106,  98, 103,  89,  85,\n",
       "        101, 109, 102,  94, 107,  95,  85,  97, 104,  99,  96,  82,  89,\n",
       "        107, 111, 111,  97,  99,  98,  78, 104, 105, 114, 100,  97, 114,\n",
       "         78,  90, 108, 111,  92,  95, 119, 108, 109,  99, 100, 110, 101,\n",
       "        117,  97,  97,  92, 103,  81,  93,  94, 101,  86,  97,  83],\n",
       "       dtype=int64))"
      ]
     },
     "execution_count": 31,
     "metadata": {},
     "output_type": "execute_result"
    }
   ],
   "source": [
    "# find the unique elements of an rand_ints, with counts \n",
    "np.unique(rand_ints, return_counts=True)"
   ]
  },
  {
   "cell_type": "code",
   "execution_count": 32,
   "metadata": {},
   "outputs": [],
   "source": [
    "# find the unique elements of an rand_ints, with counts \n",
    "x, counts = np.unique(rand_ints, return_counts=True)\n",
    "\n",
    "# show the x and counts array\n",
    "#x, counts\n"
   ]
  },
  {
   "cell_type": "code",
   "execution_count": 33,
   "metadata": {},
   "outputs": [
    {
     "data": {
      "text/plain": [
       "<BarContainer object of 1000 artists>"
      ]
     },
     "execution_count": 33,
     "metadata": {},
     "output_type": "execute_result"
    },
    {
     "data": {
      "image/png": "[encoded data removed]",
      "text/plain": [
       "<Figure size 1200x300 with 1 Axes>"
      ]
     },
     "metadata": {},
     "output_type": "display_data"
    }
   ],
   "source": [
    "# Create and empty plot.\n",
    "\n",
    "fig, ax = plt.subplots(figsize=(12, 3))\n",
    "\n",
    "# Plot a bar chart \n",
    "ax.bar(x, counts)"
   ]
  },
  {
   "cell_type": "markdown",
   "metadata": {},
   "source": [
    "# Plotting histagrams \n",
    "***"
   ]
  },
  {
   "cell_type": "code",
   "execution_count": 41,
   "metadata": {},
   "outputs": [],
   "source": [
    "# The number of floating point numbers to generate. \n",
    "size = 100000"
   ]
  },
  {
   "cell_type": "code",
   "execution_count": 42,
   "metadata": {},
   "outputs": [],
   "source": [
    "# Generate random floating point numbers in the interval 0.0 (included) to 1.0 (excluded)\n",
    "rand_floats=rng.random(size)\n",
    "# show rand_floats.\n",
    "#rand_floats"
   ]
  },
  {
   "cell_type": "code",
   "execution_count": 43,
   "metadata": {},
   "outputs": [],
   "source": [
    "# find the unique elements of an rand_ints, with counts \n",
    "x, counts = np.unique(rand_floats, return_counts=True)\n",
    "\n",
    "# show the x and counts array\n",
    "#x, counts"
   ]
  },
  {
   "cell_type": "code",
   "execution_count": 37,
   "metadata": {},
   "outputs": [],
   "source": [
    "# Create and empty plot.\n",
    "\n",
    "#fig, ax = plt.subplots(figsize=(12, 3))\n",
    "\n",
    "# Plot a bar chart - it is useless \n",
    "#ax.bar(x, counts, width=0.001)"
   ]
  },
  {
   "cell_type": "code",
   "execution_count": 49,
   "metadata": {},
   "outputs": [
    {
     "data": {
      "image/png": "[encoded data removed]",
      "text/plain": [
       "<Figure size 1200x300 with 1 Axes>"
      ]
     },
     "metadata": {},
     "output_type": "display_data"
    }
   ],
   "source": [
    "fig, ax = plt.subplots(figsize=(12, 3))\n",
    "\n",
    "# Plot a histogramme\n",
    "ax.hist(rand_floats, bins=100);"
   ]
  },
  {
   "cell_type": "markdown",
   "metadata": {},
   "source": [
    "# Normal looking Data \n",
    "***"
   ]
  },
  {
   "cell_type": "code",
   "execution_count": 46,
   "metadata": {},
   "outputs": [],
   "source": [
    "# Generate numbers on a stnadard Normal distribution \n",
    "\n",
    "rand_normal = rng.standard_normal(100000)"
   ]
  },
  {
   "cell_type": "code",
   "execution_count": 51,
   "metadata": {},
   "outputs": [
    {
     "data": {
      "image/png": "[encoded data removed]",
      "text/plain": [
       "<Figure size 1200x300 with 1 Axes>"
      ]
     },
     "metadata": {},
     "output_type": "display_data"
    }
   ],
   "source": [
    "# Create an empty plot. \n",
    "fig, ax = plt.subplots(figsize=(12, 3))\n",
    "\n",
    "# Plot a histogram.\n",
    "ax.hist(rand_normal, bins= 100, density=True);"
   ]
  },
  {
   "cell_type": "markdown",
   "metadata": {},
   "source": [
    "TWO PLOTS IN ONE \n",
    "***"
   ]
  },
  {
   "cell_type": "markdown",
   "metadata": {},
   "source": [
    "**Normal PDF**\n",
    "\n",
    "$$ f(x) = \\frac{1}{\\sigma \\sqrt{2 \\pi}} e^{-\\frac{1}{2}\\big( \\frac{x - \\mu}{\\sigma}\\big)^2} $$"
   ]
  },
  {
   "cell_type": "markdown",
   "metadata": {},
   "source": [
    "**Standard Normal PDF**\n",
    "\n",
    "$$ f(x) = \\frac{1}{\\sqrt{2 \\pi}} e^{-\\frac{x^2}{2}} $$"
   ]
  },
  {
   "cell_type": "code",
   "execution_count": 55,
   "metadata": {},
   "outputs": [],
   "source": [
    "# x should be a numpy array.\n",
    "def f(x):\n",
    "    A = 1.0 / np.sqrt(2.0 *np.pi)\n",
    "    B = np.exp(-(x**2) / 2.0)\n",
    "    return A * B "
   ]
  },
  {
   "cell_type": "code",
   "execution_count": 56,
   "metadata": {},
   "outputs": [
    {
     "data": {
      "text/plain": [
       "0.3989422804014327"
      ]
     },
     "execution_count": 56,
     "metadata": {},
     "output_type": "execute_result"
    }
   ],
   "source": [
    "# test value aroung 0 \n",
    "f(0.0)"
   ]
  },
  {
   "cell_type": "code",
   "execution_count": 57,
   "metadata": {},
   "outputs": [
    {
     "data": {
      "text/plain": [
       "0.0044318484119380075"
      ]
     },
     "execution_count": 57,
     "metadata": {},
     "output_type": "execute_result"
    }
   ],
   "source": [
    "# test value aroung 3\n",
    "f(3.0)"
   ]
  },
  {
   "cell_type": "code",
   "execution_count": 65,
   "metadata": {},
   "outputs": [
    {
     "data": {
      "image/png": "[encoded data removed]",
      "text/plain": [
       "<Figure size 1200x400 with 1 Axes>"
      ]
     },
     "metadata": {},
     "output_type": "display_data"
    }
   ],
   "source": [
    "# Plot of x value for plotting \n",
    "\n",
    "x = np.linspace(-5.0, 5.0, 1001)\n",
    "\n",
    "# Create empty plot \n",
    "fig, ax = plt.subplots(figsize=(12,4))\n",
    "\n",
    "# plot histogram of randomly generated normal values from above \n",
    "ax.hist(rand_normal, bins= 100, density=True);\n",
    "\n",
    "# Plot f(x)\n",
    "ax.plot(x, f(x));"
   ]
  },
  {
   "cell_type": "code",
   "execution_count": null,
   "metadata": {},
   "outputs": [],
   "source": []
  },
  {
   "cell_type": "code",
   "execution_count": null,
   "metadata": {},
   "outputs": [],
   "source": []
  },
  {
   "cell_type": "markdown",
   "metadata": {},
   "source": [
    "***\n",
    "# End"
   ]
  },
  {
   "cell_type": "markdown",
   "metadata": {},
   "source": []
  }
 ],
 "metadata": {
  "kernelspec": {
   "display_name": "base",
   "language": "python",
   "name": "python3"
  },
  "language_info": {
   "codemirror_mode": {
    "name": "ipython",
    "version": 3
   },
   "file_extension": ".py",
   "mimetype": "text/x-python",
   "name": "python",
   "nbconvert_exporter": "python",
   "pygments_lexer": "ipython3",
   "version": "3.11.4"
  }
 },
 "nbformat": 4,
 "nbformat_minor": 2
}
