{
 "cells": [
  {
   "cell_type": "markdown",
   "metadata": {},
   "source": [
    "# Rnadom Numbers in numpy \n",
    "\n",
    "---"
   ]
  },
  {
   "cell_type": "code",
   "execution_count": 1,
   "metadata": {},
   "outputs": [],
   "source": [
    "# Numerical arrays, random number \n",
    "import numpy as np \n",
    "# Plots.\n",
    "import matplotlib.pyplot as plt "
   ]
  },
  {
   "cell_type": "markdown",
   "metadata": {},
   "source": [
    "### Numpy\n",
    "\n",
    "[https://numpy.org/doc/stable/reference/random/index.html](https://numpy.org/doc/stable/reference/random/index.html)"
   ]
  },
  {
   "cell_type": "markdown",
   "metadata": {},
   "source": [
    "## Python Standard library \n",
    "\n",
    "https://docs.python.org/3/library/random.html"
   ]
  },
  {
   "cell_type": "code",
   "execution_count": 2,
   "metadata": {},
   "outputs": [],
   "source": [
    "# random Number Generator (RNG) for generating random numbers \n",
    "rng = np.random.default_rng()"
   ]
  },
  {
   "cell_type": "code",
   "execution_count": 3,
   "metadata": {},
   "outputs": [
    {
     "data": {
      "text/plain": [
       "0.928184729751954"
      ]
     },
     "execution_count": 3,
     "metadata": {},
     "output_type": "execute_result"
    }
   ],
   "source": [
    "# Generate Random floats in point numbers in the interval 0.0 (included) to 1.0 (excluded).\n",
    "rng.random()  "
   ]
  },
  {
   "cell_type": "code",
   "execution_count": 4,
   "metadata": {},
   "outputs": [
    {
     "data": {
      "text/plain": [
       "array([-6.53698485e-01,  1.35211464e+00,  6.11658696e-01, -3.60688912e+00,\n",
       "        8.78288133e-01, -1.78282590e+00, -4.41024061e-01,  1.75762668e+00,\n",
       "       -7.61710830e-01,  7.08470892e-01, -3.82117214e-01,  5.96422815e-01,\n",
       "       -1.14833538e+00, -2.29825838e+00,  7.97038584e-01, -1.86845952e+00,\n",
       "        5.49771833e-02,  6.55573715e-01, -2.22180442e-01, -8.94657922e-01,\n",
       "        1.16117661e+00, -2.16002977e-01, -1.75082637e+00,  5.16905751e-01,\n",
       "        7.75281472e-01, -1.28440816e+00, -2.89650498e+00, -1.30950876e+00,\n",
       "       -2.25328131e-02,  1.97474223e-01, -6.89564798e-01, -6.58072806e-01,\n",
       "        9.51733985e-01,  1.08033202e+00,  4.08171649e-01, -5.88497658e-02,\n",
       "        1.09915794e+00,  1.96089910e-01,  3.96484278e-01,  1.14571878e+00,\n",
       "        5.69707226e-01,  2.51614887e-01, -5.35497361e-01, -9.54456031e-01,\n",
       "        1.94298448e+00,  5.61337874e-01, -4.42265983e-02, -1.53372179e+00,\n",
       "       -5.48876810e-01,  1.05578685e+00, -7.35470370e-01, -5.23955145e-01,\n",
       "        9.96425133e-01, -9.65135202e-01,  9.39773209e-01,  1.06856667e+00,\n",
       "       -2.02464141e+00, -2.96114696e-01,  1.12504454e+00,  1.13850118e+00,\n",
       "        1.83677467e+00,  8.54935384e-01,  1.25618224e+00,  1.44128450e-01,\n",
       "       -1.60079110e-01,  4.60567201e-01,  4.83335249e-01, -3.17648332e-03,\n",
       "        6.26634267e-02,  1.91069680e+00, -1.61228580e-01,  1.00407318e-01,\n",
       "        2.36076183e+00, -7.75245124e-01,  2.29131881e+00, -9.27333203e-01,\n",
       "        4.42333562e-01, -5.21602205e-01,  1.36484755e-02, -5.17202652e-01,\n",
       "        1.26816796e+00,  1.14750986e+00, -1.54826486e+00, -5.24241507e-01,\n",
       "       -7.77398197e-01,  1.66650754e+00, -8.23505121e-01, -1.01071212e+00,\n",
       "       -4.16802315e-01,  5.21357107e-01,  3.49707132e-01,  8.01529863e-01,\n",
       "       -1.41892762e+00, -8.00050150e-01, -1.65648530e-01, -2.87668401e-01,\n",
       "        2.97532491e-02,  9.86817352e-02,  7.95038727e-02,  1.73934022e+00])"
      ]
     },
     "execution_count": 4,
     "metadata": {},
     "output_type": "execute_result"
    }
   ],
   "source": [
    "# Generate numbers on a standard Normal distribution\n",
    "# The mean is 0.0 and standard deviation is 1.0.\n",
    "# The number generated should be, on average, centerd on 0.0\n",
    "# About 99% of the number generated should be in the interval (-3.0, 3.0). \n",
    "\n",
    "rng.standard_normal(100) "
   ]
  },
  {
   "cell_type": "code",
   "execution_count": 19,
   "metadata": {},
   "outputs": [
    {
     "data": {
      "text/plain": [
       "array([1, 3, 8, 9, 3], dtype=int64)"
      ]
     },
     "execution_count": 19,
     "metadata": {},
     "output_type": "execute_result"
    }
   ],
   "source": [
    "# Generate 15 integers between 10 (included) and 20 (excluded).\n",
    "rng.integers(low=0, high=10, size=5)  "
   ]
  },
  {
   "cell_type": "code",
   "execution_count": null,
   "metadata": {},
   "outputs": [],
   "source": []
  },
  {
   "cell_type": "markdown",
   "metadata": {},
   "source": [
    "---"
   ]
  },
  {
   "cell_type": "code",
   "execution_count": 6,
   "metadata": {},
   "outputs": [],
   "source": [
    "# The random module form the standard library.\n",
    "import random"
   ]
  },
  {
   "cell_type": "code",
   "execution_count": 7,
   "metadata": {},
   "outputs": [
    {
     "name": "stdout",
     "output_type": "stream",
     "text": [
      "\u001b[1;31mSignature:\u001b[0m \u001b[0mrandom\u001b[0m\u001b[1;33m.\u001b[0m\u001b[0mrandint\u001b[0m\u001b[1;33m(\u001b[0m\u001b[0ma\u001b[0m\u001b[1;33m,\u001b[0m \u001b[0mb\u001b[0m\u001b[1;33m)\u001b[0m\u001b[1;33m\u001b[0m\u001b[1;33m\u001b[0m\u001b[0m\n",
      "\u001b[1;31mDocstring:\u001b[0m\n",
      "Return random integer in range [a, b], including both end points.\n",
      "        \n",
      "\u001b[1;31mFile:\u001b[0m      c:\\users\\anton\\anaconda3\\lib\\random.py\n",
      "\u001b[1;31mType:\u001b[0m      method"
     ]
    }
   ],
   "source": [
    "# using automplete, we can ger a flavour of the module\n",
    "#putting a question mark in fron ot a fuction print a little help message \n",
    "\n",
    "?random.randint"
   ]
  },
  {
   "cell_type": "code",
   "execution_count": 8,
   "metadata": {},
   "outputs": [
    {
     "data": {
      "text/plain": [
       "12"
      ]
     },
     "execution_count": 8,
     "metadata": {},
     "output_type": "execute_result"
    }
   ],
   "source": [
    "# based on the above, we can generate a random integer between \n",
    "# 10 and 20, inclusive \n",
    "random.randint(10,20)"
   ]
  },
  {
   "cell_type": "code",
   "execution_count": 9,
   "metadata": {},
   "outputs": [],
   "source": [
    "# Generate a list of 100 random integers between 1 and 10.\n",
    "l = [random.randint(1,10) for i in range(100)]"
   ]
  },
  {
   "cell_type": "code",
   "execution_count": 10,
   "metadata": {},
   "outputs": [
    {
     "data": {
      "text/plain": [
       "[5, 5, 9, 8, 1, 10, 4, 4, 4, 6]"
      ]
     },
     "execution_count": 10,
     "metadata": {},
     "output_type": "execute_result"
    }
   ],
   "source": [
    "l[:10]"
   ]
  },
  {
   "cell_type": "code",
   "execution_count": 11,
   "metadata": {},
   "outputs": [
    {
     "data": {
      "text/plain": [
       "'Fords'"
      ]
     },
     "execution_count": 11,
     "metadata": {},
     "output_type": "execute_result"
    }
   ],
   "source": [
    "# list of car makes\n",
    "\n",
    "makes = ['Toyota', 'Skoda', 'Fords', 'Renault']\n",
    "random.choice(makes)"
   ]
  },
  {
   "cell_type": "code",
   "execution_count": 12,
   "metadata": {},
   "outputs": [
    {
     "data": {
      "text/plain": [
       "['Renault',\n",
       " 'Toyota',\n",
       " 'Fords',\n",
       " 'Skoda',\n",
       " 'Renault',\n",
       " 'Skoda',\n",
       " 'Renault',\n",
       " 'Renault',\n",
       " 'Skoda',\n",
       " 'Toyota']"
      ]
     },
     "execution_count": 12,
     "metadata": {},
     "output_type": "execute_result"
    }
   ],
   "source": [
    "# select ten random makes with replacement\n",
    "random.choices(makes, k=10)"
   ]
  },
  {
   "cell_type": "code",
   "execution_count": 13,
   "metadata": {},
   "outputs": [],
   "source": [
    "# First eight letters \n",
    "letters = ['a','b','c','d','e','f','g','h']"
   ]
  },
  {
   "cell_type": "code",
   "execution_count": 14,
   "metadata": {},
   "outputs": [],
   "source": [
    "# shuffle them:\n",
    "random.shuffle(letters)"
   ]
  },
  {
   "cell_type": "code",
   "execution_count": 15,
   "metadata": {},
   "outputs": [
    {
     "data": {
      "text/plain": [
       "['c', 'h', 'd', 'a', 'f', 'b', 'g', 'e']"
      ]
     },
     "execution_count": 15,
     "metadata": {},
     "output_type": "execute_result"
    }
   ],
   "source": [
    "#look at letters after shuffle \n",
    "letters"
   ]
  },
  {
   "cell_type": "code",
   "execution_count": 16,
   "metadata": {},
   "outputs": [
    {
     "data": {
      "text/plain": [
       "['h', 'd', 'b']"
      ]
     },
     "execution_count": 16,
     "metadata": {},
     "output_type": "execute_result"
    }
   ],
   "source": [
    "# random selection without replacement \n",
    "random.sample(letters, k=3)"
   ]
  },
  {
   "cell_type": "code",
   "execution_count": 17,
   "metadata": {},
   "outputs": [
    {
     "data": {
      "text/plain": [
       "0.24456723851049733"
      ]
     },
     "execution_count": 17,
     "metadata": {},
     "output_type": "execute_result"
    }
   ],
   "source": [
    "# Random real (floating-point) number [0.0, 1.0)\n",
    "random.random()"
   ]
  },
  {
   "cell_type": "code",
   "execution_count": 18,
   "metadata": {},
   "outputs": [
    {
     "data": {
      "text/plain": [
       "40.9696144618242"
      ]
     },
     "execution_count": 18,
     "metadata": {},
     "output_type": "execute_result"
    }
   ],
   "source": [
    "# Pick a random floating point number between [0.0 and 100.00]\n",
    "random.uniform(0.0,100.00)"
   ]
  },
  {
   "cell_type": "code",
   "execution_count": null,
   "metadata": {},
   "outputs": [],
   "source": []
  },
  {
   "cell_type": "code",
   "execution_count": null,
   "metadata": {},
   "outputs": [],
   "source": []
  },
  {
   "cell_type": "markdown",
   "metadata": {},
   "source": [
    "***\n",
    "# End"
   ]
  },
  {
   "cell_type": "markdown",
   "metadata": {},
   "source": []
  }
 ],
 "metadata": {
  "kernelspec": {
   "display_name": "base",
   "language": "python",
   "name": "python3"
  },
  "language_info": {
   "codemirror_mode": {
    "name": "ipython",
    "version": 3
   },
   "file_extension": ".py",
   "mimetype": "text/x-python",
   "name": "python",
   "nbconvert_exporter": "python",
   "pygments_lexer": "ipython3",
   "version": "3.11.4"
  }
 },
 "nbformat": 4,
 "nbformat_minor": 2
}
