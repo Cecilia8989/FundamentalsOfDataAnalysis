{
 "cells": [
  {
   "cell_type": "markdown",
   "metadata": {},
   "source": [
    "# Rnadom Numbers in numpy \n",
    "\n",
    "---"
   ]
  },
  {
   "cell_type": "code",
   "execution_count": 44,
   "metadata": {},
   "outputs": [],
   "source": [
    "# Numerical arrays, random number \n",
    "import numpy as np \n",
    "# Plots.\n",
    "import matplotlib.pyplot as plt "
   ]
  },
  {
   "cell_type": "markdown",
   "metadata": {},
   "source": [
    "### Numpy\n",
    "\n",
    "[https://numpy.org/doc/stable/reference/random/index.html](https://numpy.org/doc/stable/reference/random/index.html)"
   ]
  },
  {
   "cell_type": "markdown",
   "metadata": {},
   "source": [
    "## Python Standard library \n",
    "\n",
    "https://docs.python.org/3/library/random.html"
   ]
  },
  {
   "cell_type": "code",
   "execution_count": 45,
   "metadata": {},
   "outputs": [],
   "source": [
    "# random Number Generator (RNG) for generating random numbers \n",
    "rng = np.random.default_rng()"
   ]
  },
  {
   "cell_type": "code",
   "execution_count": 46,
   "metadata": {},
   "outputs": [
    {
     "data": {
      "text/plain": [
       "0.9156084976597039"
      ]
     },
     "execution_count": 46,
     "metadata": {},
     "output_type": "execute_result"
    }
   ],
   "source": [
    "# Generate Random floats in point numbers in the interval 0.0 (included) to 1.0 (excluded).\n",
    "rng.random()  "
   ]
  },
  {
   "cell_type": "code",
   "execution_count": 47,
   "metadata": {},
   "outputs": [
    {
     "data": {
      "text/plain": [
       "array([-1.69452888, -0.2706339 , -0.73454165, -0.86302997, -0.72476665,\n",
       "        0.3537411 ,  0.65713106, -1.08305494,  0.49325187, -1.21706875,\n",
       "       -0.96806742,  0.5050431 , -1.2150434 ,  0.81055171,  0.83454452,\n",
       "        1.57930355, -0.49645194, -0.14100831,  0.33738354, -0.541694  ,\n",
       "       -1.45255965, -0.92849761,  0.01667717, -0.51816785, -0.8793239 ,\n",
       "       -1.4978167 ,  0.19371812, -1.79508832,  0.18536011, -2.6341987 ,\n",
       "       -0.53985846, -0.91395917, -0.47887485, -2.58706812,  0.65036329,\n",
       "       -0.54425476,  1.76103394,  0.29015318,  0.6523824 ,  0.92526544,\n",
       "        0.55435936,  1.18987212,  1.07764068, -0.95335315, -0.24739021,\n",
       "       -0.53678617,  0.89440376, -0.68271082,  0.18070144,  0.52529128,\n",
       "        0.07417301, -1.58737567, -0.46287716,  0.62149893, -0.82665796,\n",
       "       -2.60813664,  0.40976176, -0.27686664,  1.26212461, -0.17598435,\n",
       "        1.37449269,  0.88721624,  1.24784339,  0.64125953,  0.06306787,\n",
       "        1.572266  , -1.9576228 ,  0.0871576 , -0.61895528,  1.06878217,\n",
       "        0.27706201,  1.31821004,  0.08956975, -0.37578959,  2.55976991,\n",
       "        0.81693544, -1.30377393, -1.89472437, -0.18288942, -0.48110674,\n",
       "       -0.33202467,  0.92421213,  0.06431831,  1.65993152,  1.42608467,\n",
       "       -0.4772846 , -0.54709312, -1.05090318,  0.48408907,  1.12934959,\n",
       "       -0.48872647, -1.10285967, -0.04459417,  0.28978104,  0.99510199,\n",
       "       -0.23930945,  0.12017561, -0.10620488,  0.32140541,  1.4649743 ])"
      ]
     },
     "execution_count": 47,
     "metadata": {},
     "output_type": "execute_result"
    }
   ],
   "source": [
    "# Generate numbers on a standard Normal distribution\n",
    "# The mean is 0.0 and standard deviation is 1.0.\n",
    "# The number generated should be, on average, centerd on 0.0\n",
    "# About 99% of the number generated should be in the interval (-3.0, 3.0). \n",
    "\n",
    "rng.standard_normal(100) "
   ]
  },
  {
   "cell_type": "code",
   "execution_count": 48,
   "metadata": {},
   "outputs": [
    {
     "data": {
      "text/plain": [
       "array([2, 5, 1, 8, 0], dtype=int64)"
      ]
     },
     "execution_count": 48,
     "metadata": {},
     "output_type": "execute_result"
    }
   ],
   "source": [
    "# Generate 15 integers between 10 (included) and 20 (excluded).\n",
    "rng.integers(low=0, high=10, size=5)  "
   ]
  },
  {
   "cell_type": "code",
   "execution_count": null,
   "metadata": {},
   "outputs": [],
   "source": []
  },
  {
   "cell_type": "markdown",
   "metadata": {},
   "source": [
    "---"
   ]
  },
  {
   "cell_type": "code",
   "execution_count": 49,
   "metadata": {},
   "outputs": [],
   "source": [
    "# The random module form the standard library.\n",
    "import random"
   ]
  },
  {
   "cell_type": "code",
   "execution_count": 50,
   "metadata": {},
   "outputs": [
    {
     "name": "stdout",
     "output_type": "stream",
     "text": [
      "\u001b[1;31mSignature:\u001b[0m \u001b[0mrandom\u001b[0m\u001b[1;33m.\u001b[0m\u001b[0mrandint\u001b[0m\u001b[1;33m(\u001b[0m\u001b[0ma\u001b[0m\u001b[1;33m,\u001b[0m \u001b[0mb\u001b[0m\u001b[1;33m)\u001b[0m\u001b[1;33m\u001b[0m\u001b[1;33m\u001b[0m\u001b[0m\n",
      "\u001b[1;31mDocstring:\u001b[0m\n",
      "Return random integer in range [a, b], including both end points.\n",
      "        \n",
      "\u001b[1;31mFile:\u001b[0m      c:\\users\\anton\\anaconda3\\lib\\random.py\n",
      "\u001b[1;31mType:\u001b[0m      method"
     ]
    }
   ],
   "source": [
    "# using automplete, we can ger a flavour of the module\n",
    "#putting a question mark in fron ot a fuction print a little help message \n",
    "\n",
    "?random.randint"
   ]
  },
  {
   "cell_type": "code",
   "execution_count": 51,
   "metadata": {},
   "outputs": [
    {
     "data": {
      "text/plain": [
       "18"
      ]
     },
     "execution_count": 51,
     "metadata": {},
     "output_type": "execute_result"
    }
   ],
   "source": [
    "# based on the above, we can generate a random integer between \n",
    "# 10 and 20, inclusive \n",
    "random.randint(10,20)"
   ]
  },
  {
   "cell_type": "code",
   "execution_count": 52,
   "metadata": {},
   "outputs": [],
   "source": [
    "# Generate a list of 100 random integers between 1 and 10.\n",
    "l = [random.randint(1,10) for i in range(100)]"
   ]
  },
  {
   "cell_type": "code",
   "execution_count": 53,
   "metadata": {},
   "outputs": [
    {
     "data": {
      "text/plain": [
       "[1, 5, 8, 6, 6, 10, 10, 5, 8, 2]"
      ]
     },
     "execution_count": 53,
     "metadata": {},
     "output_type": "execute_result"
    }
   ],
   "source": [
    "l[:10]"
   ]
  },
  {
   "cell_type": "code",
   "execution_count": 54,
   "metadata": {},
   "outputs": [
    {
     "data": {
      "text/plain": [
       "'Toyota'"
      ]
     },
     "execution_count": 54,
     "metadata": {},
     "output_type": "execute_result"
    }
   ],
   "source": [
    "# list of car makes\n",
    "\n",
    "makes = ['Toyota', 'Skoda', 'Fords', 'Renault']\n",
    "random.choice(makes)"
   ]
  },
  {
   "cell_type": "code",
   "execution_count": 55,
   "metadata": {},
   "outputs": [
    {
     "data": {
      "text/plain": [
       "['Skoda',\n",
       " 'Fords',\n",
       " 'Toyota',\n",
       " 'Skoda',\n",
       " 'Toyota',\n",
       " 'Toyota',\n",
       " 'Fords',\n",
       " 'Renault',\n",
       " 'Toyota',\n",
       " 'Fords']"
      ]
     },
     "execution_count": 55,
     "metadata": {},
     "output_type": "execute_result"
    }
   ],
   "source": [
    "# select ten random makes with replacement\n",
    "random.choices(makes, k=10)"
   ]
  },
  {
   "cell_type": "code",
   "execution_count": 56,
   "metadata": {},
   "outputs": [],
   "source": [
    "# First eight letters \n",
    "letters = ['a','b','c','d','e','f','g','h']"
   ]
  },
  {
   "cell_type": "code",
   "execution_count": 57,
   "metadata": {},
   "outputs": [],
   "source": [
    "# shuffle them:\n",
    "random.shuffle(letters)"
   ]
  },
  {
   "cell_type": "code",
   "execution_count": 58,
   "metadata": {},
   "outputs": [
    {
     "data": {
      "text/plain": [
       "['a', 'h', 'g', 'e', 'd', 'c', 'b', 'f']"
      ]
     },
     "execution_count": 58,
     "metadata": {},
     "output_type": "execute_result"
    }
   ],
   "source": [
    "#look at letters after shuffle \n",
    "letters"
   ]
  },
  {
   "cell_type": "code",
   "execution_count": 59,
   "metadata": {},
   "outputs": [
    {
     "data": {
      "text/plain": [
       "['f', 'g', 'a']"
      ]
     },
     "execution_count": 59,
     "metadata": {},
     "output_type": "execute_result"
    }
   ],
   "source": [
    "# random selection without replacement \n",
    "random.sample(letters, k=3)"
   ]
  },
  {
   "cell_type": "code",
   "execution_count": 60,
   "metadata": {},
   "outputs": [
    {
     "data": {
      "text/plain": [
       "0.999558304680658"
      ]
     },
     "execution_count": 60,
     "metadata": {},
     "output_type": "execute_result"
    }
   ],
   "source": [
    "# Random real (floating-point) number [0.0, 1.0)\n",
    "random.random()"
   ]
  },
  {
   "cell_type": "code",
   "execution_count": 61,
   "metadata": {},
   "outputs": [
    {
     "data": {
      "text/plain": [
       "4.004338732027557"
      ]
     },
     "execution_count": 61,
     "metadata": {},
     "output_type": "execute_result"
    }
   ],
   "source": [
    "# Pick a random floating point number between [0.0 and 100.00]\n",
    "random.uniform(0.0,100.00)"
   ]
  },
  {
   "cell_type": "markdown",
   "metadata": {},
   "source": [
    "# Plotting Distributions \n",
    "***"
   ]
  },
  {
   "cell_type": "code",
   "execution_count": 73,
   "metadata": {},
   "outputs": [],
   "source": [
    "# The low integer allowed>\n",
    "low =1\n",
    "\n",
    "# the highest integer allowed \n",
    "high = 10\n",
    "\n",
    "# The number of integers to generate.\n",
    "size = 100000\n"
   ]
  },
  {
   "cell_type": "code",
   "execution_count": 77,
   "metadata": {},
   "outputs": [],
   "source": [
    "# Generated a list of random integers.\n",
    "rand_ints = rng.integers(low=low, high=high +1, size=size)  \n"
   ]
  },
  {
   "cell_type": "code",
   "execution_count": 64,
   "metadata": {},
   "outputs": [
    {
     "data": {
      "text/plain": [
       "array([ 8,  2,  1,  2,  2,  8,  7,  6,  1, 10, 10,  7,  1,  6, 10,  8,  1,\n",
       "        5,  7,  1,  7,  7,  8,  7,  1,  8, 10,  7,  5,  8,  7,  5,  6,  6,\n",
       "        1,  4,  4,  8,  1,  2,  3,  5,  1,  1,  6,  3,  9,  7,  8,  4,  9,\n",
       "        5,  3,  4,  6,  7,  6, 10,  5,  3,  1,  1,  7,  8,  8,  3,  1,  5,\n",
       "        3,  4,  1,  8,  4, 10,  5,  5,  6,  7, 10,  5,  4,  6,  8,  1,  9,\n",
       "        1,  6,  3,  9,  1,  1,  2,  5,  2,  9, 10,  6,  9,  8,  1,  8,  6,\n",
       "        2,  2,  4,  3,  6,  7,  3,  6,  3,  7,  7,  1,  5,  5,  2,  2,  6,\n",
       "       10,  1,  9,  5,  2,  9,  7,  1,  5,  3,  9, 10,  8,  8,  7,  6,  1,\n",
       "        7,  8,  8,  8,  2,  3,  6,  2,  5,  7,  5,  3,  2, 10,  4,  5,  2,\n",
       "        5, 10,  6,  3,  2,  1,  7,  3,  4,  9,  7,  2,  6,  8,  8,  8,  8,\n",
       "       10, 10,  2, 10,  3,  2,  6,  3,  8, 10,  5,  4,  3,  8,  6,  2,  5,\n",
       "        8,  1,  7,  4,  3,  7,  8,  7,  5,  4,  5,  4,  5,  3,  7,  3,  8,\n",
       "        7,  6,  3,  6, 10,  6,  5,  1, 10,  9,  6,  9,  4,  5,  9,  9,  5,\n",
       "        9, 10,  3,  5,  4,  6,  8,  8,  9,  9,  4,  4, 10,  7,  4,  7,  4,\n",
       "        4,  2,  1,  4,  2,  8,  3,  1,  7,  8,  6, 10,  9,  4, 10,  7,  9,\n",
       "        1,  2,  3,  6,  9,  1, 10,  7,  4,  8,  8,  1,  6,  8,  8,  4,  9,\n",
       "        5,  8, 10,  7,  4,  1,  7,  7,  5,  3,  2,  4,  6,  3,  1, 10,  2,\n",
       "        3, 10,  3,  8, 10,  6,  3,  6,  5,  2,  5,  9,  1,  3,  3,  3,  2,\n",
       "        4,  4,  1, 10,  2,  5,  7,  8,  5,  9,  8,  7,  6,  8, 10,  9, 10,\n",
       "       10, 10,  3,  7,  7, 10,  8,  8,  4,  7,  3,  3, 10,  1,  1,  3,  7,\n",
       "        7,  4, 10,  4,  8,  8,  6,  4,  7,  2,  5, 10,  5,  4,  5,  3,  3,\n",
       "        1,  7,  8,  9,  2, 10,  5,  7,  1,  7,  8,  7, 10,  6,  9, 10,  5,\n",
       "        6,  5,  1,  2,  2,  8,  7, 10,  5,  8, 10,  8,  1,  9,  4,  9,  4,\n",
       "        2,  2,  1,  3,  9,  2,  8,  6,  3,  2,  1, 10,  8,  4,  2,  7,  5,\n",
       "        4,  8,  2,  1, 10,  3,  9,  9,  3,  1,  6,  1,  3,  5,  5,  2,  7,\n",
       "        6,  9,  6,  2,  2,  1,  7,  4,  4,  9,  4,  3, 10,  4,  8,  3, 10,\n",
       "        6,  6,  3,  2,  1,  3,  2,  7,  4, 10,  4,  4,  3,  4,  9,  8,  1,\n",
       "        2, 10,  3,  4,  1,  6,  8,  5,  6,  6,  7,  2,  5,  7,  9,  2,  1,\n",
       "        7,  7,  1,  3,  9,  1,  1,  1, 10,  5,  8,  7,  2,  8, 10,  8,  5,\n",
       "        4,  6,  7, 10,  6,  5, 10,  3,  5,  5,  7,  7,  8,  6,  1,  8,  9,\n",
       "        6, 10,  3,  2,  2,  8,  1,  5,  1,  5,  4, 10, 10,  4,  6, 10,  3,\n",
       "        4,  7,  6,  5,  8,  4,  4,  3, 10, 10, 10, 10, 10,  6,  3,  9,  7,\n",
       "        1, 10,  4,  4,  6,  5,  8,  5, 10,  3,  3, 10,  2,  6, 10,  6, 10,\n",
       "        1,  1,  8,  7,  7,  5,  9,  7,  4,  2,  7, 10, 10,  8,  8,  6,  3,\n",
       "        3,  7,  1,  9,  9, 10,  8,  1, 10,  3,  9,  7,  8,  1,  9,  6,  3,\n",
       "        8,  7,  1,  5,  7,  2,  4,  7,  2,  8,  7,  2,  2,  2,  2,  6,  5,\n",
       "        1, 10,  1,  4,  3,  3,  3,  9,  9,  7, 10,  4,  7,  4,  8,  8,  2,\n",
       "        9,  7,  9,  5,  4,  2,  4,  6,  6,  5,  1, 10,  1,  7,  1,  3,  8,\n",
       "        1,  3,  6,  1,  6,  3,  1,  6, 10,  2,  5,  4,  8,  1,  1,  5,  3,\n",
       "        7, 10,  8,  6, 10,  4,  9, 10,  6,  8,  5,  3,  8,  9,  8,  1,  5,\n",
       "        9,  2,  1,  6,  7,  9,  8,  1, 10,  3,  7, 10,  4,  8, 10,  6, 10,\n",
       "       10,  2,  4,  1,  3,  5,  9,  1,  8,  6,  8,  6,  8, 10,  1,  9,  6,\n",
       "        1,  6,  6,  2,  6,  2,  8,  2,  1, 10,  9,  8,  7, 10,  4,  5,  6,\n",
       "        8,  3,  2,  6,  3,  6,  1,  6,  4,  1,  7,  3,  2,  8,  5,  9, 10,\n",
       "       10,  7,  4, 10,  7,  8,  6,  4,  2,  8,  9, 10,  4,  5,  1, 10, 10,\n",
       "        6,  6,  3, 10,  3,  4,  5,  7,  6,  7,  3,  7, 10,  9,  4,  4,  9,\n",
       "        5, 10,  6,  1,  1,  2, 10,  6,  9,  8,  1,  6,  4,  3,  3,  4,  9,\n",
       "        7,  9,  5,  4,  7,  7,  2,  3,  4,  8,  9,  1,  1,  5,  2,  5,  5,\n",
       "        3,  2, 10,  7,  9,  4,  8,  3,  7,  2,  1,  9, 10,  7,  3,  9,  3,\n",
       "        7,  5,  6,  5,  5, 10,  9,  7,  3,  4,  4,  2,  3,  1,  2,  7,  6,\n",
       "        7,  1,  3,  4,  4,  9,  5,  7,  5,  1,  4,  6,  7,  1,  7,  9,  3,\n",
       "        8,  1,  5,  3,  6,  2,  4,  5,  8, 10,  8,  7,  2,  7,  5,  1,  8,\n",
       "        6,  4,  9,  1,  9,  9,  8,  5,  8,  6,  7,  1,  8,  8,  2,  3,  4,\n",
       "        2,  6,  1,  4,  5,  8,  1,  2,  5,  1, 10,  9, 10,  3,  2,  1,  5,\n",
       "        1,  7,  1,  1,  2,  3,  8,  4,  8,  7,  3,  4,  5,  7, 10,  4,  6,\n",
       "        8,  6,  1,  8,  8,  7,  3,  3,  5,  1,  3,  5,  8,  9,  5,  6,  8,\n",
       "        5,  6,  3,  2,  7, 10,  7,  5,  1,  3,  1,  5,  9,  3,  4,  1,  7,\n",
       "        2,  9,  2,  6,  5,  8,  7,  8,  3, 10,  8,  2,  5,  4,  5,  3,  2,\n",
       "        4,  2,  4,  8,  5,  5,  9, 10,  2,  2,  6,  6,  6,  4],\n",
       "      dtype=int64)"
      ]
     },
     "execution_count": 64,
     "metadata": {},
     "output_type": "execute_result"
    }
   ],
   "source": [
    "#show\n",
    "rand_ints"
   ]
  },
  {
   "cell_type": "code",
   "execution_count": 78,
   "metadata": {},
   "outputs": [],
   "source": [
    "# The range of x values \n",
    "\n",
    "x = np.arange(low, high +1, dtype=int )\n"
   ]
  },
  {
   "cell_type": "code",
   "execution_count": 79,
   "metadata": {},
   "outputs": [
    {
     "data": {
      "text/plain": [
       "(array([ 1,  2,  3,  4,  5,  6,  7,  8,  9, 10], dtype=int64),\n",
       " array([1010,  986, 1006, 1001,  943,  984,  981, 1009, 1037, 1043],\n",
       "       dtype=int64))"
      ]
     },
     "execution_count": 79,
     "metadata": {},
     "output_type": "execute_result"
    }
   ],
   "source": [
    "# find the unique elements of an rand_ints, with counts \n",
    "np.unique(rand_ints, return_counts=True)"
   ]
  },
  {
   "cell_type": "code",
   "execution_count": 80,
   "metadata": {},
   "outputs": [
    {
     "data": {
      "text/plain": [
       "(array([ 1,  2,  3,  4,  5,  6,  7,  8,  9, 10], dtype=int64),\n",
       " array([1010,  986, 1006, 1001,  943,  984,  981, 1009, 1037, 1043],\n",
       "       dtype=int64))"
      ]
     },
     "execution_count": 80,
     "metadata": {},
     "output_type": "execute_result"
    }
   ],
   "source": [
    "# find the unique elements of an rand_ints, with counts \n",
    "x, counts = np.unique(rand_ints, return_counts=True)\n",
    "\n",
    "# show the x and counts array\n",
    "x, counts\n"
   ]
  },
  {
   "cell_type": "code",
   "execution_count": 76,
   "metadata": {},
   "outputs": [
    {
     "data": {
      "text/plain": [
       "<BarContainer object of 10 artists>"
      ]
     },
     "execution_count": 76,
     "metadata": {},
     "output_type": "execute_result"
    },
    {
     "data": {
      "image/png": "[encoded data removed]",
      "text/plain": [
       "<Figure size 1200x300 with 1 Axes>"
      ]
     },
     "metadata": {},
     "output_type": "display_data"
    }
   ],
   "source": [
    "# Create and empty plot.\n",
    "\n",
    "fig, ax = plt.subplots(figsize=(12, 3))\n",
    "\n",
    "# Plot a bar chart \n",
    "ax.bar(x, counts)"
   ]
  },
  {
   "cell_type": "markdown",
   "metadata": {},
   "source": [
    "***\n",
    "# End"
   ]
  },
  {
   "cell_type": "markdown",
   "metadata": {},
   "source": []
  }
 ],
 "metadata": {
  "kernelspec": {
   "display_name": "base",
   "language": "python",
   "name": "python3"
  },
  "language_info": {
   "codemirror_mode": {
    "name": "ipython",
    "version": 3
   },
   "file_extension": ".py",
   "mimetype": "text/x-python",
   "name": "python",
   "nbconvert_exporter": "python",
   "pygments_lexer": "ipython3",
   "version": "3.11.4"
  }
 },
 "nbformat": 4,
 "nbformat_minor": 2
}
